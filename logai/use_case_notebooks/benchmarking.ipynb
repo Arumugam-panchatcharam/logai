{
 "cells": [
  {
   "cell_type": "code",
   "execution_count": 85,
   "metadata": {},
   "outputs": [],
   "source": [
    "# Benchmark LogAI with open datasets"
   ]
  },
  {
   "cell_type": "code",
   "execution_count": 86,
   "metadata": {
    "pycharm": {
     "name": "#%%\n"
    }
   },
   "outputs": [],
   "source": [
    "import pandas as pd\n",
    "from logai.dataloader.data_loader import DataLoaderConfig, FileDataLoader\n",
    "\n",
    "filepath = \"/Users/qcheng/workspace/gitsoma/logai/logai/data/open_datasets/HealthApp.log\"\n",
    "#filepath = \"./data/sf_datasets/dbscan_clustering_clean - dbscan_clustering_clean.csv\"\n",
    "log_type = \"log\"\n",
    "# dimensions = {'attributes': ['cluster_label'],\n",
    "#               'body': ['logline']}\n",
    "\n",
    "log_type = \"log\"\n",
    "dimensions = None\n",
    "\n",
    "file_config = DataLoaderConfig(\n",
    "    filepath=filepath,\n",
    "    log_type=log_type,\n",
    "    sep = '|'\n",
    ")\n",
    "\n",
    "dataloader = FileDataLoader(file_config)\n",
    "logrecord = dataloader.load_data()"
   ]
  },
  {
   "cell_type": "code",
   "execution_count": 87,
   "metadata": {
    "pycharm": {
     "name": "#%%\n"
    }
   },
   "outputs": [
    {
     "name": "stderr",
     "output_type": "stream",
     "text": [
      "b'Skipping line 1794: expected 4 fields, saw 7\\nSkipping line 8472: expected 4 fields, saw 7\\nSkipping line 17280: expected 4 fields, saw 7\\nSkipping line 37868: expected 4 fields, saw 7\\nSkipping line 53628: expected 4 fields, saw 7\\nSkipping line 66532: expected 4 fields, saw 7\\nSkipping line 66979: expected 4 fields, saw 7\\nSkipping line 87622: expected 4 fields, saw 7\\nSkipping line 102000: expected 4 fields, saw 7\\nSkipping line 116461: expected 4 fields, saw 7\\n'\n",
      "b'Skipping line 138346: expected 4 fields, saw 7\\nSkipping line 138857: expected 4 fields, saw 7\\nSkipping line 174408: expected 4 fields, saw 7\\nSkipping line 179394: expected 4 fields, saw 7\\nSkipping line 189076: expected 4 fields, saw 7\\nSkipping line 195498: expected 4 fields, saw 7\\nSkipping line 208961: expected 4 fields, saw 7\\nSkipping line 226413: expected 4 fields, saw 7\\nSkipping line 238798: expected 4 fields, saw 7\\nSkipping line 249895: expected 4 fields, saw 7\\n'\n"
     ]
    }
   ],
   "source": [
    "from logai.dataloader.data_model import LogRecordObject\n",
    "\n",
    "df = pd.read_csv(filepath, sep=\"|\", on_bad_lines=\"warn\", header=None)\n",
    "df.columns=[\"Timestamps\", \"Action\", \"ID\", \"Details\"]\n",
    "\n",
    "df_selected = df.head(1000)\n",
    "\n",
    "\n",
    "# 20171223-22:15:29:606\n",
    "#\n",
    "logrecord = LogRecordObject(\n",
    "    timestamp=pd.to_datetime(df_selected['Timestamps'], format=\"%Y%m%d-%H:%M:%S:%f\"),\n",
    "    attributes=df_selected[['Action', 'ID']],\n",
    "    body=df_selected[['Details']]\n",
    ")"
   ]
  },
  {
   "cell_type": "code",
   "execution_count": 88,
   "metadata": {
    "pycharm": {
     "name": "#%%\n"
    }
   },
   "outputs": [],
   "source": [
    "# import os\n",
    "#\n",
    "# w_path = \"/Users/qcheng/workspace/gitsoma/logai/tests/logai/test_data\"\n",
    "#\n",
    "# logrecord.attributes.to_pickle(os.path.join(w_path, \"healthapp_attributes\"))\n",
    "# logrecord.timestamp.to_pickle(os.path.join(w_path, \"healthapp_timestamp\"))\n",
    "\n",
    "#"
   ]
  },
  {
   "cell_type": "code",
   "execution_count": 89,
   "metadata": {
    "pycharm": {
     "name": "#%%\n"
    }
   },
   "outputs": [
    {
     "name": "stdout",
     "output_type": "stream",
     "text": [
      "(1000, 1)\n"
     ]
    },
    {
     "data": {
      "text/html": [
       "<div>\n",
       "<style scoped>\n",
       "    .dataframe tbody tr th:only-of-type {\n",
       "        vertical-align: middle;\n",
       "    }\n",
       "\n",
       "    .dataframe tbody tr th {\n",
       "        vertical-align: top;\n",
       "    }\n",
       "\n",
       "    .dataframe thead th {\n",
       "        text-align: right;\n",
       "    }\n",
       "</style>\n",
       "<table border=\"1\" class=\"dataframe\">\n",
       "  <thead>\n",
       "    <tr style=\"text-align: right;\">\n",
       "      <th></th>\n",
       "      <th>Details</th>\n",
       "    </tr>\n",
       "  </thead>\n",
       "  <tbody>\n",
       "    <tr>\n",
       "      <th>0</th>\n",
       "      <td>onStandStepChanged 3579</td>\n",
       "    </tr>\n",
       "    <tr>\n",
       "      <th>1</th>\n",
       "      <td>onExtend:1514038530000 14 0 4</td>\n",
       "    </tr>\n",
       "    <tr>\n",
       "      <th>2</th>\n",
       "      <td>onReceive action: android.intent.action.SCREEN_ON</td>\n",
       "    </tr>\n",
       "    <tr>\n",
       "      <th>3</th>\n",
       "      <td>processHandleBroadcastAction action:android.in...</td>\n",
       "    </tr>\n",
       "    <tr>\n",
       "      <th>4</th>\n",
       "      <td>flush sensor data</td>\n",
       "    </tr>\n",
       "  </tbody>\n",
       "</table>\n",
       "</div>"
      ],
      "text/plain": [
       "                                             Details\n",
       "0                            onStandStepChanged 3579\n",
       "1                      onExtend:1514038530000 14 0 4\n",
       "2  onReceive action: android.intent.action.SCREEN_ON\n",
       "3  processHandleBroadcastAction action:android.in...\n",
       "4                                  flush sensor data"
      ]
     },
     "execution_count": 89,
     "metadata": {},
     "output_type": "execute_result"
    }
   ],
   "source": [
    "# Describe data\n",
    "print(logrecord.body.shape)\n",
    "logrecord.body.head(5)"
   ]
  },
  {
   "cell_type": "code",
   "execution_count": 90,
   "metadata": {
    "pycharm": {
     "name": "#%%\n"
    }
   },
   "outputs": [],
   "source": [
    "from logai.algorithms.parsing_algo.ael import AELParams\n",
    "from logai.algorithms.parsing_algo.iplom import IPLoMParams\n",
    "from logai.information_extraction.log_parser import LogParserConfig, LogParser\n",
    "from logai.algorithms.parsing_algo.drain import DrainParams\n",
    "\n",
    "# Information Extraction: Parsing\n",
    "# Currently only implemented DRAIN. IPLoM next but needs time to refactor code from LogPAI.\n",
    "\n",
    "loglines = logrecord.body['Details']\n",
    "\n",
    "drain_params = DrainParams(\n",
    "    sim_th=0.4\n",
    ")\n",
    "\n",
    "iplom_params = IPLoMParams()\n",
    "\n",
    "ael_params = AELParams()\n",
    "\n",
    "log_parser_config = LogParserConfig(\n",
    "    parsing_algorithm='drain',\n",
    "    parsing_algo_params=drain_params\n",
    ")\n",
    "\n",
    "parser = LogParser(log_parser_config)\n",
    "parsed_result = parser.parse(loglines)"
   ]
  },
  {
   "cell_type": "code",
   "execution_count": 91,
   "metadata": {
    "pycharm": {
     "name": "#%%\n"
    }
   },
   "outputs": [],
   "source": [
    "from logai.information_extraction.log_vectorizer import VectorizerConfig, LogVectorizer\n",
    "from logai.algorithms.vectorization_algo.word2vec import Word2VecParams\n",
    "\n",
    "## Vectorization\n",
    "\n",
    "parsed_loglines = parsed_result['parsed_logline']\n",
    "\n",
    "# Vectorization using Word2Vec\n",
    "\n",
    "params = Word2VecParams()\n",
    "vectorizer_config = VectorizerConfig(\"word2vec\", params, None)\n",
    "vectorizor = LogVectorizer(vectorizer_config)\n",
    "vectorizor.fit(parsed_loglines)\n",
    "\n",
    "#Log vector is a pandas.Series\n",
    "log_vectors_w2v = vectorizor.transform(parsed_loglines)"
   ]
  },
  {
   "cell_type": "code",
   "execution_count": 92,
   "metadata": {
    "pycharm": {
     "name": "#%%\n"
    }
   },
   "outputs": [
    {
     "data": {
      "text/html": [
       "<div>\n",
       "<style scoped>\n",
       "    .dataframe tbody tr th:only-of-type {\n",
       "        vertical-align: middle;\n",
       "    }\n",
       "\n",
       "    .dataframe tbody tr th {\n",
       "        vertical-align: top;\n",
       "    }\n",
       "\n",
       "    .dataframe thead th {\n",
       "        text-align: right;\n",
       "    }\n",
       "</style>\n",
       "<table border=\"1\" class=\"dataframe\">\n",
       "  <thead>\n",
       "    <tr style=\"text-align: right;\">\n",
       "      <th></th>\n",
       "      <th>Action_categorical</th>\n",
       "      <th>ID_categorical</th>\n",
       "    </tr>\n",
       "  </thead>\n",
       "  <tbody>\n",
       "    <tr>\n",
       "      <th>0</th>\n",
       "      <td>11</td>\n",
       "      <td>0</td>\n",
       "    </tr>\n",
       "    <tr>\n",
       "      <th>1</th>\n",
       "      <td>11</td>\n",
       "      <td>0</td>\n",
       "    </tr>\n",
       "    <tr>\n",
       "      <th>2</th>\n",
       "      <td>14</td>\n",
       "      <td>0</td>\n",
       "    </tr>\n",
       "    <tr>\n",
       "      <th>3</th>\n",
       "      <td>11</td>\n",
       "      <td>0</td>\n",
       "    </tr>\n",
       "    <tr>\n",
       "      <th>4</th>\n",
       "      <td>15</td>\n",
       "      <td>0</td>\n",
       "    </tr>\n",
       "  </tbody>\n",
       "</table>\n",
       "</div>"
      ],
      "text/plain": [
       "   Action_categorical  ID_categorical\n",
       "0                  11               0\n",
       "1                  11               0\n",
       "2                  14               0\n",
       "3                  11               0\n",
       "4                  15               0"
      ]
     },
     "execution_count": 92,
     "metadata": {},
     "output_type": "execute_result"
    }
   ],
   "source": [
    "from logai.information_extraction.categorical_encoder import CategoricalEncoderConfig, CategoricalEncoder\n",
    "\n",
    "encoder_config = CategoricalEncoderConfig(name=\"label_encoder\")\n",
    "\n",
    "encoder = CategoricalEncoder(encoder_config)\n",
    "\n",
    "attributes = encoder.fit_transform(logrecord.attributes)\n",
    "\n",
    "attributes.head(5)"
   ]
  },
  {
   "cell_type": "code",
   "execution_count": 93,
   "metadata": {
    "pycharm": {
     "name": "#%%\n"
    }
   },
   "outputs": [],
   "source": [
    "from logai.information_extraction.feature_extractor import FeatureExtractor, FeatureExtractorConfig\n",
    "#Feature extraction\n",
    "# implement log vector to feature\n",
    "# this will convert the vector metrics to a n dimensional feature.\n",
    "# implement simple 0 padding method.\n",
    "\n",
    "\n",
    "import pandas as pd\n",
    "\n",
    "config = FeatureExtractorConfig()\n",
    "feature_extractor = FeatureExtractor(config)\n",
    "_, feature_vector = feature_extractor.convert_to_feature_vector(log_vectors_w2v, attributes, logrecord.timestamp)"
   ]
  },
  {
   "cell_type": "code",
   "execution_count": 94,
   "metadata": {
    "pycharm": {
     "name": "#%%\n"
    }
   },
   "outputs": [
    {
     "data": {
      "text/html": [
       "<div>\n",
       "<style scoped>\n",
       "    .dataframe tbody tr th:only-of-type {\n",
       "        vertical-align: middle;\n",
       "    }\n",
       "\n",
       "    .dataframe tbody tr th {\n",
       "        vertical-align: top;\n",
       "    }\n",
       "\n",
       "    .dataframe thead th {\n",
       "        text-align: right;\n",
       "    }\n",
       "</style>\n",
       "<table border=\"1\" class=\"dataframe\">\n",
       "  <thead>\n",
       "    <tr style=\"text-align: right;\">\n",
       "      <th></th>\n",
       "      <th>feature_0</th>\n",
       "      <th>feature_1</th>\n",
       "      <th>feature_2</th>\n",
       "      <th>feature_3</th>\n",
       "      <th>feature_4</th>\n",
       "      <th>feature_5</th>\n",
       "      <th>feature_6</th>\n",
       "      <th>feature_7</th>\n",
       "      <th>feature_8</th>\n",
       "      <th>feature_9</th>\n",
       "      <th>...</th>\n",
       "      <th>feature_92</th>\n",
       "      <th>feature_93</th>\n",
       "      <th>feature_94</th>\n",
       "      <th>feature_95</th>\n",
       "      <th>feature_96</th>\n",
       "      <th>feature_97</th>\n",
       "      <th>feature_98</th>\n",
       "      <th>feature_99</th>\n",
       "      <th>Action_categorical</th>\n",
       "      <th>ID_categorical</th>\n",
       "    </tr>\n",
       "  </thead>\n",
       "  <tbody>\n",
       "    <tr>\n",
       "      <th>0</th>\n",
       "      <td>-0.125446</td>\n",
       "      <td>0.246017</td>\n",
       "      <td>-0.051116</td>\n",
       "      <td>0.000000</td>\n",
       "      <td>0.000000</td>\n",
       "      <td>0.000000</td>\n",
       "      <td>0.000000</td>\n",
       "      <td>0.000000</td>\n",
       "      <td>0.000000</td>\n",
       "      <td>0.0</td>\n",
       "      <td>...</td>\n",
       "      <td>0.0</td>\n",
       "      <td>0.0</td>\n",
       "      <td>0.0</td>\n",
       "      <td>0.0</td>\n",
       "      <td>0.0</td>\n",
       "      <td>0.0</td>\n",
       "      <td>0.0</td>\n",
       "      <td>0.0</td>\n",
       "      <td>11.0</td>\n",
       "      <td>0.0</td>\n",
       "    </tr>\n",
       "    <tr>\n",
       "      <th>1</th>\n",
       "      <td>0.215296</td>\n",
       "      <td>0.299100</td>\n",
       "      <td>-0.167181</td>\n",
       "      <td>-0.251936</td>\n",
       "      <td>-0.034387</td>\n",
       "      <td>0.325121</td>\n",
       "      <td>0.000000</td>\n",
       "      <td>0.000000</td>\n",
       "      <td>0.000000</td>\n",
       "      <td>0.0</td>\n",
       "      <td>...</td>\n",
       "      <td>0.0</td>\n",
       "      <td>0.0</td>\n",
       "      <td>0.0</td>\n",
       "      <td>0.0</td>\n",
       "      <td>0.0</td>\n",
       "      <td>0.0</td>\n",
       "      <td>0.0</td>\n",
       "      <td>0.0</td>\n",
       "      <td>11.0</td>\n",
       "      <td>0.0</td>\n",
       "    </tr>\n",
       "    <tr>\n",
       "      <th>2</th>\n",
       "      <td>-0.297246</td>\n",
       "      <td>-0.234719</td>\n",
       "      <td>0.030049</td>\n",
       "      <td>0.192571</td>\n",
       "      <td>-0.325141</td>\n",
       "      <td>0.209281</td>\n",
       "      <td>0.000000</td>\n",
       "      <td>0.000000</td>\n",
       "      <td>0.000000</td>\n",
       "      <td>0.0</td>\n",
       "      <td>...</td>\n",
       "      <td>0.0</td>\n",
       "      <td>0.0</td>\n",
       "      <td>0.0</td>\n",
       "      <td>0.0</td>\n",
       "      <td>0.0</td>\n",
       "      <td>0.0</td>\n",
       "      <td>0.0</td>\n",
       "      <td>0.0</td>\n",
       "      <td>14.0</td>\n",
       "      <td>0.0</td>\n",
       "    </tr>\n",
       "    <tr>\n",
       "      <th>3</th>\n",
       "      <td>-0.052588</td>\n",
       "      <td>0.010712</td>\n",
       "      <td>-0.138021</td>\n",
       "      <td>0.000000</td>\n",
       "      <td>0.000000</td>\n",
       "      <td>0.000000</td>\n",
       "      <td>0.000000</td>\n",
       "      <td>0.000000</td>\n",
       "      <td>0.000000</td>\n",
       "      <td>0.0</td>\n",
       "      <td>...</td>\n",
       "      <td>0.0</td>\n",
       "      <td>0.0</td>\n",
       "      <td>0.0</td>\n",
       "      <td>0.0</td>\n",
       "      <td>0.0</td>\n",
       "      <td>0.0</td>\n",
       "      <td>0.0</td>\n",
       "      <td>0.0</td>\n",
       "      <td>11.0</td>\n",
       "      <td>0.0</td>\n",
       "    </tr>\n",
       "    <tr>\n",
       "      <th>4</th>\n",
       "      <td>0.092888</td>\n",
       "      <td>0.229703</td>\n",
       "      <td>0.203370</td>\n",
       "      <td>-0.103328</td>\n",
       "      <td>0.263144</td>\n",
       "      <td>0.197952</td>\n",
       "      <td>-0.214433</td>\n",
       "      <td>0.022391</td>\n",
       "      <td>0.297987</td>\n",
       "      <td>0.0</td>\n",
       "      <td>...</td>\n",
       "      <td>0.0</td>\n",
       "      <td>0.0</td>\n",
       "      <td>0.0</td>\n",
       "      <td>0.0</td>\n",
       "      <td>0.0</td>\n",
       "      <td>0.0</td>\n",
       "      <td>0.0</td>\n",
       "      <td>0.0</td>\n",
       "      <td>15.0</td>\n",
       "      <td>0.0</td>\n",
       "    </tr>\n",
       "  </tbody>\n",
       "</table>\n",
       "<p>5 rows × 102 columns</p>\n",
       "</div>"
      ],
      "text/plain": [
       "   feature_0  feature_1  feature_2  feature_3  feature_4  feature_5  \\\n",
       "0  -0.125446   0.246017  -0.051116   0.000000   0.000000   0.000000   \n",
       "1   0.215296   0.299100  -0.167181  -0.251936  -0.034387   0.325121   \n",
       "2  -0.297246  -0.234719   0.030049   0.192571  -0.325141   0.209281   \n",
       "3  -0.052588   0.010712  -0.138021   0.000000   0.000000   0.000000   \n",
       "4   0.092888   0.229703   0.203370  -0.103328   0.263144   0.197952   \n",
       "\n",
       "   feature_6  feature_7  feature_8  feature_9  ...  feature_92  feature_93  \\\n",
       "0   0.000000   0.000000   0.000000        0.0  ...         0.0         0.0   \n",
       "1   0.000000   0.000000   0.000000        0.0  ...         0.0         0.0   \n",
       "2   0.000000   0.000000   0.000000        0.0  ...         0.0         0.0   \n",
       "3   0.000000   0.000000   0.000000        0.0  ...         0.0         0.0   \n",
       "4  -0.214433   0.022391   0.297987        0.0  ...         0.0         0.0   \n",
       "\n",
       "   feature_94  feature_95  feature_96  feature_97  feature_98  feature_99  \\\n",
       "0         0.0         0.0         0.0         0.0         0.0         0.0   \n",
       "1         0.0         0.0         0.0         0.0         0.0         0.0   \n",
       "2         0.0         0.0         0.0         0.0         0.0         0.0   \n",
       "3         0.0         0.0         0.0         0.0         0.0         0.0   \n",
       "4         0.0         0.0         0.0         0.0         0.0         0.0   \n",
       "\n",
       "   Action_categorical  ID_categorical  \n",
       "0                11.0             0.0  \n",
       "1                11.0             0.0  \n",
       "2                14.0             0.0  \n",
       "3                11.0             0.0  \n",
       "4                15.0             0.0  \n",
       "\n",
       "[5 rows x 102 columns]"
      ]
     },
     "execution_count": 94,
     "metadata": {},
     "output_type": "execute_result"
    }
   ],
   "source": [
    "feature_vector.head(5)"
   ]
  },
  {
   "cell_type": "code",
   "execution_count": 95,
   "metadata": {
    "pycharm": {
     "name": "#%%\n"
    }
   },
   "outputs": [],
   "source": [
    "from logai.analysis.clustering import ClusteringConfig, Clustering\n",
    "# Log clustering\n",
    "#Clustering using K-Means\n",
    "\n",
    "\n",
    "from logai.algorithms.clustering_algo.kmeans import KMeansParams\n",
    "\n",
    "# algo_params = KMeansParams(n_clusters=100)\n",
    "clustering_config = ClusteringConfig('DBSCAN')\n",
    "\n",
    "clustering = Clustering(clustering_config)\n",
    "\n",
    "clustering.fit(feature_vector)\n",
    "kmeans_res = clustering.predict(feature_vector)\n",
    "res_df = pd.concat((kmeans_res.rename('cluster_label'), parsed_result), axis=1)"
   ]
  },
  {
   "cell_type": "code",
   "execution_count": 96,
   "metadata": {
    "pycharm": {
     "name": "#%%\n"
    }
   },
   "outputs": [
    {
     "data": {
      "text/html": [
       "<div>\n",
       "<style scoped>\n",
       "    .dataframe tbody tr th:only-of-type {\n",
       "        vertical-align: middle;\n",
       "    }\n",
       "\n",
       "    .dataframe tbody tr th {\n",
       "        vertical-align: top;\n",
       "    }\n",
       "\n",
       "    .dataframe thead th {\n",
       "        text-align: right;\n",
       "    }\n",
       "</style>\n",
       "<table border=\"1\" class=\"dataframe\">\n",
       "  <thead>\n",
       "    <tr style=\"text-align: right;\">\n",
       "      <th></th>\n",
       "      <th>cluster_label</th>\n",
       "      <th>logline</th>\n",
       "      <th>parsed_logline</th>\n",
       "      <th>parameter_list</th>\n",
       "    </tr>\n",
       "  </thead>\n",
       "  <tbody>\n",
       "    <tr>\n",
       "      <th>1</th>\n",
       "      <td>1</td>\n",
       "      <td>onExtend:1514038530000 14 0 4</td>\n",
       "      <td>* * 0 4</td>\n",
       "      <td>[onExtend:1514038530000, 14]</td>\n",
       "    </tr>\n",
       "    <tr>\n",
       "      <th>11</th>\n",
       "      <td>1</td>\n",
       "      <td>onExtend:1514038530000 0 0 4</td>\n",
       "      <td>* * 0 4</td>\n",
       "      <td>[onExtend:1514038530000]</td>\n",
       "    </tr>\n",
       "    <tr>\n",
       "      <th>14</th>\n",
       "      <td>1</td>\n",
       "      <td>onExtend:1514038530000 1 0 4</td>\n",
       "      <td>* * 0 4</td>\n",
       "      <td>[onExtend:1514038530000, 1]</td>\n",
       "    </tr>\n",
       "    <tr>\n",
       "      <th>21</th>\n",
       "      <td>1</td>\n",
       "      <td>onExtend:1514038531000 1 0 4</td>\n",
       "      <td>* * 0 4</td>\n",
       "      <td>[onExtend:1514038531000, 1]</td>\n",
       "    </tr>\n",
       "    <tr>\n",
       "      <th>28</th>\n",
       "      <td>1</td>\n",
       "      <td>onExtend:1514038531000 2 0 4</td>\n",
       "      <td>* * 0 4</td>\n",
       "      <td>[onExtend:1514038531000, 2]</td>\n",
       "    </tr>\n",
       "  </tbody>\n",
       "</table>\n",
       "</div>"
      ],
      "text/plain": [
       "    cluster_label                        logline parsed_logline  \\\n",
       "1               1  onExtend:1514038530000 14 0 4        * * 0 4   \n",
       "11              1   onExtend:1514038530000 0 0 4        * * 0 4   \n",
       "14              1   onExtend:1514038530000 1 0 4        * * 0 4   \n",
       "21              1   onExtend:1514038531000 1 0 4        * * 0 4   \n",
       "28              1   onExtend:1514038531000 2 0 4        * * 0 4   \n",
       "\n",
       "                  parameter_list  \n",
       "1   [onExtend:1514038530000, 14]  \n",
       "11      [onExtend:1514038530000]  \n",
       "14   [onExtend:1514038530000, 1]  \n",
       "21   [onExtend:1514038531000, 1]  \n",
       "28   [onExtend:1514038531000, 2]  "
      ]
     },
     "execution_count": 96,
     "metadata": {},
     "output_type": "execute_result"
    }
   ],
   "source": [
    "res_df[res_df['cluster_label']==1].head(5)"
   ]
  },
  {
   "cell_type": "code",
   "execution_count": 97,
   "metadata": {
    "pycharm": {
     "name": "#%%\n"
    }
   },
   "outputs": [
    {
     "data": {
      "text/plain": [
       " 0     152\n",
       " 3     123\n",
       " 5     123\n",
       " 6     123\n",
       " 1     111\n",
       " 7     109\n",
       " 4     100\n",
       "-1      91\n",
       " 8      26\n",
       " 9      17\n",
       " 10     14\n",
       " 2      11\n",
       "Name: cluster_label, dtype: int64"
      ]
     },
     "execution_count": 97,
     "metadata": {},
     "output_type": "execute_result"
    }
   ],
   "source": [
    "res_df.cluster_label.value_counts()"
   ]
  },
  {
   "cell_type": "code",
   "execution_count": 98,
   "metadata": {},
   "outputs": [],
   "source": [
    "#Anomaly Detection\n",
    "\n",
    "from sklearn.model_selection import train_test_split\n",
    "\n",
    "feature_for_anomaly_detection = feature_vector\n",
    "train, test = train_test_split(feature_for_anomaly_detection, train_size=0.7, test_size=0.3)"
   ]
  },
  {
   "cell_type": "code",
   "execution_count": 99,
   "metadata": {},
   "outputs": [
    {
     "name": "stdout",
     "output_type": "stream",
     "text": [
      "[LibSVM]*\n",
      "optimization finished, #iter = 217\n",
      "obj = 4810626.676652, rho = 34127.711071\n",
      "nSV = 350, nBSV = 350\n"
     ]
    }
   ],
   "source": [
    "from logai.algorithms.anomaly_detection_algo.one_class_svm import OneClassSVMParams\n",
    "from logai.analysis.anomaly_detector import AnomalyDetectionConfig, AnomalyDetector\n",
    "\n",
    "algo_params = OneClassSVMParams()\n",
    "\n",
    "config = AnomalyDetectionConfig(algo_name='one_class_svm')\n",
    "\n",
    "anomaly_detector = AnomalyDetector(config)\n",
    "anomaly_detector.fit(train)\n",
    "res = anomaly_detector.predict(test)"
   ]
  },
  {
   "cell_type": "code",
   "execution_count": 103,
   "metadata": {},
   "outputs": [
    {
     "data": {
      "text/html": [
       "<div>\n",
       "<style scoped>\n",
       "    .dataframe tbody tr th:only-of-type {\n",
       "        vertical-align: middle;\n",
       "    }\n",
       "\n",
       "    .dataframe tbody tr th {\n",
       "        vertical-align: top;\n",
       "    }\n",
       "\n",
       "    .dataframe thead th {\n",
       "        text-align: right;\n",
       "    }\n",
       "</style>\n",
       "<table border=\"1\" class=\"dataframe\">\n",
       "  <thead>\n",
       "    <tr style=\"text-align: right;\">\n",
       "      <th></th>\n",
       "      <th>logline</th>\n",
       "      <th>parsed_logline</th>\n",
       "      <th>parameter_list</th>\n",
       "      <th>anomaly_label</th>\n",
       "    </tr>\n",
       "  </thead>\n",
       "  <tbody>\n",
       "    <tr>\n",
       "      <th>56</th>\n",
       "      <td>onExtend:1514038534000 1 0 4</td>\n",
       "      <td>* * 0 4</td>\n",
       "      <td>[onExtend:1514038534000, 1]</td>\n",
       "      <td>1</td>\n",
       "    </tr>\n",
       "    <tr>\n",
       "      <th>367</th>\n",
       "      <td>getTodayTotalDetailSteps = 1514038560000##706...</td>\n",
       "      <td>getTodayTotalDetailSteps = *</td>\n",
       "      <td>[1514038560000##7064##548557##8661##16256##272...</td>\n",
       "      <td>1</td>\n",
       "    </tr>\n",
       "    <tr>\n",
       "      <th>210</th>\n",
       "      <td>REPORT : 7035 5022 150689 240</td>\n",
       "      <td>REPORT : * * * 240</td>\n",
       "      <td>[7035, 5022, 150689]</td>\n",
       "      <td>1</td>\n",
       "    </tr>\n",
       "    <tr>\n",
       "      <th>609</th>\n",
       "      <td>REPORT : 7122 5085 152553 240</td>\n",
       "      <td>REPORT : * * * 240</td>\n",
       "      <td>[7122, 5085, 152553]</td>\n",
       "      <td>1</td>\n",
       "    </tr>\n",
       "    <tr>\n",
       "      <th>672</th>\n",
       "      <td>REPORT : 7154 5107 153238 240</td>\n",
       "      <td>REPORT : * * * 240</td>\n",
       "      <td>[7154, 5107, 153238]</td>\n",
       "      <td>1</td>\n",
       "    </tr>\n",
       "  </tbody>\n",
       "</table>\n",
       "</div>"
      ],
      "text/plain": [
       "                                               logline  \\\n",
       "56                        onExtend:1514038534000 1 0 4   \n",
       "367   getTodayTotalDetailSteps = 1514038560000##706...   \n",
       "210                      REPORT : 7035 5022 150689 240   \n",
       "609                      REPORT : 7122 5085 152553 240   \n",
       "672                      REPORT : 7154 5107 153238 240   \n",
       "\n",
       "                   parsed_logline  \\\n",
       "56                        * * 0 4   \n",
       "367  getTodayTotalDetailSteps = *   \n",
       "210            REPORT : * * * 240   \n",
       "609            REPORT : * * * 240   \n",
       "672            REPORT : * * * 240   \n",
       "\n",
       "                                        parameter_list  anomaly_label  \n",
       "56                         [onExtend:1514038534000, 1]              1  \n",
       "367  [1514038560000##7064##548557##8661##16256##272...              1  \n",
       "210                               [7035, 5022, 150689]              1  \n",
       "609                               [7122, 5085, 152553]              1  \n",
       "672                               [7154, 5107, 153238]              1  "
      ]
     },
     "execution_count": 103,
     "metadata": {},
     "output_type": "execute_result"
    }
   ],
   "source": [
    "pd.concat((parsed_result.iloc[res[res==1].index], res[res==1].rename('anomaly_label')), axis=1).head(5)"
   ]
  },
  {
   "cell_type": "code",
   "execution_count": 104,
   "metadata": {
    "pycharm": {
     "name": "#%%\n"
    }
   },
   "outputs": [],
   "source": [
    "config = FeatureExtractorConfig(\n",
    "    group_by_category=[\"parsed_logline\", \"Action\", \"ID\"]\n",
    ")\n",
    "\n",
    "feature_extractor = FeatureExtractor(config)\n",
    "\n",
    "counter_vector = feature_extractor.convert_to_counter_vector(\n",
    "    log_pattern=parsed_loglines,\n",
    "    attributes=logrecord.attributes,\n",
    "    timestamps=logrecord.timestamp\n",
    ")"
   ]
  },
  {
   "cell_type": "code",
   "execution_count": 102,
   "metadata": {
    "pycharm": {
     "name": "#%%\n"
    }
   },
   "outputs": [
    {
     "data": {
      "text/html": [
       "<div>\n",
       "<style scoped>\n",
       "    .dataframe tbody tr th:only-of-type {\n",
       "        vertical-align: middle;\n",
       "    }\n",
       "\n",
       "    .dataframe tbody tr th {\n",
       "        vertical-align: top;\n",
       "    }\n",
       "\n",
       "    .dataframe thead th {\n",
       "        text-align: right;\n",
       "    }\n",
       "</style>\n",
       "<table border=\"1\" class=\"dataframe\">\n",
       "  <thead>\n",
       "    <tr style=\"text-align: right;\">\n",
       "      <th></th>\n",
       "      <th>parsed_logline</th>\n",
       "      <th>Action</th>\n",
       "      <th>ID</th>\n",
       "      <th>Counts</th>\n",
       "    </tr>\n",
       "  </thead>\n",
       "  <tbody>\n",
       "    <tr>\n",
       "      <th>0</th>\n",
       "      <td>* * 0 4</td>\n",
       "      <td>Step_LSC</td>\n",
       "      <td>30002312</td>\n",
       "      <td>111</td>\n",
       "    </tr>\n",
       "    <tr>\n",
       "      <th>1</th>\n",
       "      <td>* 0 0 *</td>\n",
       "      <td>Step_LSC</td>\n",
       "      <td>30002312</td>\n",
       "      <td>26</td>\n",
       "    </tr>\n",
       "    <tr>\n",
       "      <th>2</th>\n",
       "      <td>* size = * = *</td>\n",
       "      <td>HiH_HiHealthDataInsertStore</td>\n",
       "      <td>30002312</td>\n",
       "      <td>3</td>\n",
       "    </tr>\n",
       "    <tr>\n",
       "      <th>3</th>\n",
       "      <td>* the * is true</td>\n",
       "      <td>HiH_</td>\n",
       "      <td>30002312</td>\n",
       "      <td>4</td>\n",
       "    </tr>\n",
       "    <tr>\n",
       "      <th>4</th>\n",
       "      <td>* the * switch is open, start push * data!</td>\n",
       "      <td>HiH_HiSyncControl</td>\n",
       "      <td>30002312</td>\n",
       "      <td>4</td>\n",
       "    </tr>\n",
       "  </tbody>\n",
       "</table>\n",
       "</div>"
      ],
      "text/plain": [
       "                               parsed_logline                       Action  \\\n",
       "0                                     * * 0 4                     Step_LSC   \n",
       "1                                     * 0 0 *                     Step_LSC   \n",
       "2                              * size = * = *  HiH_HiHealthDataInsertStore   \n",
       "3                             * the * is true                         HiH_   \n",
       "4  * the * switch is open, start push * data!            HiH_HiSyncControl   \n",
       "\n",
       "         ID  Counts  \n",
       "0  30002312     111  \n",
       "1  30002312      26  \n",
       "2  30002312       3  \n",
       "3  30002312       4  \n",
       "4  30002312       4  "
      ]
     },
     "execution_count": 102,
     "metadata": {},
     "output_type": "execute_result"
    }
   ],
   "source": [
    "counter_vector.head(5)\n",
    "\n"
   ]
  }
 ],
 "metadata": {
  "kernelspec": {
   "display_name": "Python 3 (ipykernel)",
   "language": "python",
   "name": "python3"
  },
  "language_info": {
   "codemirror_mode": {
    "name": "ipython",
    "version": 3
   },
   "file_extension": ".py",
   "mimetype": "text/x-python",
   "name": "python",
   "nbconvert_exporter": "python",
   "pygments_lexer": "ipython3",
   "version": "3.7.9"
  }
 },
 "nbformat": 4,
 "nbformat_minor": 1
}