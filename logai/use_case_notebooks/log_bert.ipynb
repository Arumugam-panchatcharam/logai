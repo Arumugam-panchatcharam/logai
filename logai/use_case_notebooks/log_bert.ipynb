{
 "cells": [
  {
   "cell_type": "code",
   "execution_count": 2,
   "metadata": {},
   "outputs": [],
   "source": [
    "import os\n",
    "\n",
    "import pandas as pd\n",
    "import numpy as np\n",
    "\n",
    "from logai.algorithms.parsing_algo.drain import DrainParams\n",
    "from logai.dataloader.data_loader import DataLoaderConfig, FileDataLoader\n",
    "from logai.information_extraction.feature_extractor import FeatureExtractorConfig, FeatureExtractor\n",
    "from logai.information_extraction.log_parser import LogParserConfig, LogParser\n",
    "from logai.preprocess.preprocess import PreprocessorConfig, Preprocessor\n",
    "from logai.utils import constants\n"
   ]
  },
  {
   "cell_type": "code",
   "execution_count": null,
   "metadata": {
    "pycharm": {
     "name": "#%%\n"
    }
   },
   "outputs": [],
   "source": [
    "input_dir = \"/Users/qcheng/workspace/gitsoma/logai/logai/data/open_datasets/HDFS_1/\"\n"
   ]
  },
  {
   "cell_type": "code",
   "execution_count": null,
   "metadata": {
    "pycharm": {
     "name": "#%%\n"
    }
   },
   "outputs": [],
   "source": [
    "# dataloader\n",
    "filepath = os.path.join(input_dir,\"HDFS.log\")\n",
    "log_type = \"log\"\n",
    "file_config = DataLoaderConfig(\n",
    "    filepath=filepath,\n",
    "    log_type=log_type\n",
    ")\n",
    "\n",
    "dataloader = FileDataLoader(file_config)\n",
    "logrecord = dataloader.load_data()"
   ]
  },
  {
   "cell_type": "code",
   "execution_count": null,
   "metadata": {},
   "outputs": [],
   "source": [
    "loglines = logrecord.body[constants.LOGLINE_NAME]\n",
    "loglines[0]"
   ]
  },
  {
   "cell_type": "code",
   "execution_count": null,
   "metadata": {
    "pycharm": {
     "name": "#%%\n"
    }
   },
   "outputs": [],
   "source": [
    "# read labels\n",
    "\n",
    "blk_label_file = os.path.join(input_dir, \"anomaly_label.csv\")\n",
    "blk_df = pd.read_csv(blk_label_file, header=0)\n",
    "anomaly_blk = set(blk_df[blk_df['Label']=='Anomaly']['BlockId'])"
   ]
  },
  {
   "cell_type": "code",
   "execution_count": null,
   "metadata": {
    "pycharm": {
     "name": "#%%\n"
    }
   },
   "outputs": [],
   "source": [
    "# preprocess\n",
    "loglines = logrecord.body[constants.LOGLINE_NAME]\n",
    "\n",
    "preprocessor_config = PreprocessorConfig(\n",
    "    custom_replace_list=[\n",
    "        [r'(?<=blk_)[-\\d]+', '<block_id>'],\n",
    "        [r'\\d+\\.\\d+\\.\\d+\\.\\d+',  '<IP>'],\n",
    "        [r'(/[-\\w]+)+', '<file_path>']\n",
    "    ]\n",
    ")\n",
    "\n",
    "preprocessor = Preprocessor(preprocessor_config)\n",
    "\n",
    "clean_logs, custom_patterns = preprocessor.clean_log(loglines)\n",
    "\n",
    "# parsing\n",
    "parsing_algo_params = DrainParams(\n",
    "    sim_th=0.5,\n",
    "    depth=5\n",
    ")\n",
    "\n",
    "log_parser_config = LogParserConfig(\n",
    "    parsing_algorithm='drain',\n",
    "    parsing_algo_params=parsing_algo_params\n",
    ")\n",
    "\n",
    "parser = LogParser(log_parser_config)\n",
    "parsed_result = parser.parse(clean_logs)\n",
    "\n",
    "parsed_result['block_id'] = custom_patterns['<block_id>'].map(lambda x: \"blk_{}\".format(x[0]))"
   ]
  },
  {
   "cell_type": "code",
   "execution_count": null,
   "metadata": {
    "pycharm": {
     "name": "#%%\n"
    }
   },
   "outputs": [],
   "source": [
    "from logai.information_extraction.categorical_encoder import CategoricalEncoder, CategoricalEncoderConfig\n",
    "\n",
    "encoder_config = CategoricalEncoderConfig()\n",
    "\n",
    "cat_encoder = CategoricalEncoder(encoder_config)\n",
    "parsed_result['event_id'] = cat_encoder.fit_transform(parsed_result[[constants.PARSED_LOGLINE_NAME]])"
   ]
  },
  {
   "cell_type": "code",
   "execution_count": 3,
   "metadata": {
    "pycharm": {
     "name": "#%%\n"
    }
   },
   "outputs": [],
   "source": [
    "OUT_DIR = '/Users/qcheng/workspace/gitsoma/logai/logai/results'\n",
    "# parsed_result.to_pickle(os.path.join(OUT_DIR, 'parse_res'))\n",
    "parsed_result = pd.read_pickle(os.path.join(OUT_DIR, 'parse_res'))"
   ]
  },
  {
   "cell_type": "code",
   "execution_count": 4,
   "metadata": {
    "pycharm": {
     "name": "#%%\n"
    }
   },
   "outputs": [
    {
     "ename": "NameError",
     "evalue": "name 'anomaly_blk' is not defined",
     "output_type": "error",
     "traceback": [
      "\u001B[0;31m---------------------------------------------------------------------------\u001B[0m",
      "\u001B[0;31mNameError\u001B[0m                                 Traceback (most recent call last)",
      "\u001B[0;32m/var/folders/gm/zf03v70n4ndcrg17spcgnrk80000gq/T/ipykernel_19591/1135239673.py\u001B[0m in \u001B[0;36m<module>\u001B[0;34m\u001B[0m\n\u001B[1;32m      7\u001B[0m \u001B[0mblock_list\u001B[0m \u001B[0;34m=\u001B[0m \u001B[0mfeature_extractor\u001B[0m\u001B[0;34m.\u001B[0m\u001B[0mconvert_to_sequence\u001B[0m\u001B[0;34m(\u001B[0m\u001B[0mparsed_result\u001B[0m\u001B[0;34m[\u001B[0m\u001B[0;34m'event_id'\u001B[0m\u001B[0;34m]\u001B[0m\u001B[0;34m,\u001B[0m \u001B[0mparsed_result\u001B[0m\u001B[0;34m[\u001B[0m\u001B[0;34m'block_id'\u001B[0m\u001B[0;34m]\u001B[0m\u001B[0;34m)\u001B[0m\u001B[0;34m\u001B[0m\u001B[0;34m\u001B[0m\u001B[0m\n\u001B[1;32m      8\u001B[0m \u001B[0;34m\u001B[0m\u001B[0m\n\u001B[0;32m----> 9\u001B[0;31m \u001B[0mblock_list\u001B[0m\u001B[0;34m[\u001B[0m\u001B[0;34m'label'\u001B[0m\u001B[0;34m]\u001B[0m \u001B[0;34m=\u001B[0m \u001B[0mblock_list\u001B[0m\u001B[0;34m[\u001B[0m\u001B[0;34m'block_id'\u001B[0m\u001B[0;34m]\u001B[0m\u001B[0;34m.\u001B[0m\u001B[0mapply\u001B[0m\u001B[0;34m(\u001B[0m\u001B[0;32mlambda\u001B[0m \u001B[0mx\u001B[0m\u001B[0;34m:\u001B[0m \u001B[0;36m1\u001B[0m \u001B[0;32mif\u001B[0m \u001B[0mx\u001B[0m \u001B[0;32min\u001B[0m \u001B[0manomaly_blk\u001B[0m \u001B[0;32melse\u001B[0m \u001B[0;36m0\u001B[0m\u001B[0;34m)\u001B[0m\u001B[0;34m\u001B[0m\u001B[0;34m\u001B[0m\u001B[0m\n\u001B[0m\u001B[1;32m     10\u001B[0m \u001B[0;34m\u001B[0m\u001B[0m\n",
      "\u001B[0;32m~/workspace/gitsoma/logai/venv/lib/python3.7/site-packages/pandas/core/series.py\u001B[0m in \u001B[0;36mapply\u001B[0;34m(self, func, convert_dtype, args, **kwargs)\u001B[0m\n\u001B[1;32m   4355\u001B[0m         \u001B[0mdtype\u001B[0m\u001B[0;34m:\u001B[0m \u001B[0mfloat64\u001B[0m\u001B[0;34m\u001B[0m\u001B[0;34m\u001B[0m\u001B[0m\n\u001B[1;32m   4356\u001B[0m         \"\"\"\n\u001B[0;32m-> 4357\u001B[0;31m         \u001B[0;32mreturn\u001B[0m \u001B[0mSeriesApply\u001B[0m\u001B[0;34m(\u001B[0m\u001B[0mself\u001B[0m\u001B[0;34m,\u001B[0m \u001B[0mfunc\u001B[0m\u001B[0;34m,\u001B[0m \u001B[0mconvert_dtype\u001B[0m\u001B[0;34m,\u001B[0m \u001B[0margs\u001B[0m\u001B[0;34m,\u001B[0m \u001B[0mkwargs\u001B[0m\u001B[0;34m)\u001B[0m\u001B[0;34m.\u001B[0m\u001B[0mapply\u001B[0m\u001B[0;34m(\u001B[0m\u001B[0;34m)\u001B[0m\u001B[0;34m\u001B[0m\u001B[0;34m\u001B[0m\u001B[0m\n\u001B[0m\u001B[1;32m   4358\u001B[0m \u001B[0;34m\u001B[0m\u001B[0m\n\u001B[1;32m   4359\u001B[0m     def _reduce(\n",
      "\u001B[0;32m~/workspace/gitsoma/logai/venv/lib/python3.7/site-packages/pandas/core/apply.py\u001B[0m in \u001B[0;36mapply\u001B[0;34m(self)\u001B[0m\n\u001B[1;32m   1041\u001B[0m             \u001B[0;32mreturn\u001B[0m \u001B[0mself\u001B[0m\u001B[0;34m.\u001B[0m\u001B[0mapply_str\u001B[0m\u001B[0;34m(\u001B[0m\u001B[0;34m)\u001B[0m\u001B[0;34m\u001B[0m\u001B[0;34m\u001B[0m\u001B[0m\n\u001B[1;32m   1042\u001B[0m \u001B[0;34m\u001B[0m\u001B[0m\n\u001B[0;32m-> 1043\u001B[0;31m         \u001B[0;32mreturn\u001B[0m \u001B[0mself\u001B[0m\u001B[0;34m.\u001B[0m\u001B[0mapply_standard\u001B[0m\u001B[0;34m(\u001B[0m\u001B[0;34m)\u001B[0m\u001B[0;34m\u001B[0m\u001B[0;34m\u001B[0m\u001B[0m\n\u001B[0m\u001B[1;32m   1044\u001B[0m \u001B[0;34m\u001B[0m\u001B[0m\n\u001B[1;32m   1045\u001B[0m     \u001B[0;32mdef\u001B[0m \u001B[0magg\u001B[0m\u001B[0;34m(\u001B[0m\u001B[0mself\u001B[0m\u001B[0;34m)\u001B[0m\u001B[0;34m:\u001B[0m\u001B[0;34m\u001B[0m\u001B[0;34m\u001B[0m\u001B[0m\n",
      "\u001B[0;32m~/workspace/gitsoma/logai/venv/lib/python3.7/site-packages/pandas/core/apply.py\u001B[0m in \u001B[0;36mapply_standard\u001B[0;34m(self)\u001B[0m\n\u001B[1;32m   1099\u001B[0m                     \u001B[0mvalues\u001B[0m\u001B[0;34m,\u001B[0m\u001B[0;34m\u001B[0m\u001B[0;34m\u001B[0m\u001B[0m\n\u001B[1;32m   1100\u001B[0m                     \u001B[0mf\u001B[0m\u001B[0;34m,\u001B[0m  \u001B[0;31m# type: ignore[arg-type]\u001B[0m\u001B[0;34m\u001B[0m\u001B[0;34m\u001B[0m\u001B[0m\n\u001B[0;32m-> 1101\u001B[0;31m                     \u001B[0mconvert\u001B[0m\u001B[0;34m=\u001B[0m\u001B[0mself\u001B[0m\u001B[0;34m.\u001B[0m\u001B[0mconvert_dtype\u001B[0m\u001B[0;34m,\u001B[0m\u001B[0;34m\u001B[0m\u001B[0;34m\u001B[0m\u001B[0m\n\u001B[0m\u001B[1;32m   1102\u001B[0m                 )\n\u001B[1;32m   1103\u001B[0m \u001B[0;34m\u001B[0m\u001B[0m\n",
      "\u001B[0;32m~/workspace/gitsoma/logai/venv/lib/python3.7/site-packages/pandas/_libs/lib.pyx\u001B[0m in \u001B[0;36mpandas._libs.lib.map_infer\u001B[0;34m()\u001B[0m\n",
      "\u001B[0;32m/var/folders/gm/zf03v70n4ndcrg17spcgnrk80000gq/T/ipykernel_19591/1135239673.py\u001B[0m in \u001B[0;36m<lambda>\u001B[0;34m(x)\u001B[0m\n\u001B[1;32m      7\u001B[0m \u001B[0mblock_list\u001B[0m \u001B[0;34m=\u001B[0m \u001B[0mfeature_extractor\u001B[0m\u001B[0;34m.\u001B[0m\u001B[0mconvert_to_sequence\u001B[0m\u001B[0;34m(\u001B[0m\u001B[0mparsed_result\u001B[0m\u001B[0;34m[\u001B[0m\u001B[0;34m'event_id'\u001B[0m\u001B[0;34m]\u001B[0m\u001B[0;34m,\u001B[0m \u001B[0mparsed_result\u001B[0m\u001B[0;34m[\u001B[0m\u001B[0;34m'block_id'\u001B[0m\u001B[0;34m]\u001B[0m\u001B[0;34m)\u001B[0m\u001B[0;34m\u001B[0m\u001B[0;34m\u001B[0m\u001B[0m\n\u001B[1;32m      8\u001B[0m \u001B[0;34m\u001B[0m\u001B[0m\n\u001B[0;32m----> 9\u001B[0;31m \u001B[0mblock_list\u001B[0m\u001B[0;34m[\u001B[0m\u001B[0;34m'label'\u001B[0m\u001B[0;34m]\u001B[0m \u001B[0;34m=\u001B[0m \u001B[0mblock_list\u001B[0m\u001B[0;34m[\u001B[0m\u001B[0;34m'block_id'\u001B[0m\u001B[0;34m]\u001B[0m\u001B[0;34m.\u001B[0m\u001B[0mapply\u001B[0m\u001B[0;34m(\u001B[0m\u001B[0;32mlambda\u001B[0m \u001B[0mx\u001B[0m\u001B[0;34m:\u001B[0m \u001B[0;36m1\u001B[0m \u001B[0;32mif\u001B[0m \u001B[0mx\u001B[0m \u001B[0;32min\u001B[0m \u001B[0manomaly_blk\u001B[0m \u001B[0;32melse\u001B[0m \u001B[0;36m0\u001B[0m\u001B[0;34m)\u001B[0m\u001B[0;34m\u001B[0m\u001B[0;34m\u001B[0m\u001B[0m\n\u001B[0m\u001B[1;32m     10\u001B[0m \u001B[0;34m\u001B[0m\u001B[0m\n",
      "\u001B[0;31mNameError\u001B[0m: name 'anomaly_blk' is not defined"
     ]
    }
   ],
   "source": [
    "config = FeatureExtractorConfig(\n",
    "    group_by_category=['block_id']\n",
    ")\n",
    "\n",
    "feature_extractor = FeatureExtractor(config)\n",
    "\n",
    "block_list = feature_extractor.convert_to_sequence(parsed_result['event_id'], parsed_result['block_id'])\n",
    "\n",
    "block_list['label'] = block_list['block_id'].apply(lambda x: 1 if x in anomaly_blk else 0)"
   ]
  },
  {
   "cell_type": "code",
   "execution_count": null,
   "metadata": {
    "pycharm": {
     "name": "#%%\n"
    }
   },
   "outputs": [],
   "source": [
    "# gb = parsed_result[['event_id', 'block_id']].groupby(by=['block_id'])\n",
    "#\n",
    "# block_list = gb.size().to_frame(name='counts').join(gb.agg(event_ids=('event_id',list))).reset_index()\n",
    "#\n",
    "# block_list['event_seq'] = block_list['event_ids'].apply(lambda x: \" \".join([str(c) for c in x]))\n",
    "# block_list['label'] = block_list['block_id'].apply(lambda x: 1 if x in anomaly_blk else 0)\n",
    "#\n",
    "# block_list[block_list['label'] == 1].head(3)"
   ]
  },
  {
   "cell_type": "code",
   "execution_count": null,
   "metadata": {
    "pycharm": {
     "name": "#%%\n"
    }
   },
   "outputs": [],
   "source": [
    "neg_df = block_list[block_list['label'] == 0][['event_sequence', 'label']].sample(frac=0.1, random_state=1)\n",
    "pos_df = block_list[block_list['label'] == 1][['event_sequence', 'label']].sample(frac=0.5, random_state=1)\n",
    "\n",
    "from sklearn.model_selection import train_test_split\n",
    "train_df_neg, test_df_neg = train_test_split(neg_df, test_size=.2)\n",
    "train_df_pos, test_df_pos = train_test_split(pos_df, test_size=.2)\n",
    "\n",
    "train_df = train_df_pos.append(train_df_neg)\n",
    "test_df = test_df_pos.append(test_df_neg)"
   ]
  },
  {
   "cell_type": "code",
   "execution_count": null,
   "metadata": {
    "pycharm": {
     "name": "#%%\n"
    }
   },
   "outputs": [],
   "source": [
    "from logai.algorithms.nn_model.transformers import TransformerAlgoConfig, TransformerAlgo\n",
    "\n",
    "config = TransformerAlgoConfig()\n",
    "transformer = TransformerAlgo(config)\n",
    "transformer.train(train_df['event_sequence'], train_df['label'])"
   ]
  },
  {
   "cell_type": "code",
   "execution_count": null,
   "metadata": {
    "pycharm": {
     "name": "#%%\n"
    }
   },
   "outputs": [],
   "source": [
    "predictions = transformer.predict(test_df['event_seq'], test_df['label'])\n",
    "\n",
    "\n"
   ]
  }
 ],
 "metadata": {
  "kernelspec": {
   "display_name": "Python 3 (ipykernel)",
   "language": "python",
   "name": "python3"
  },
  "language_info": {
   "codemirror_mode": {
    "name": "ipython",
    "version": 3
   },
   "file_extension": ".py",
   "mimetype": "text/x-python",
   "name": "python",
   "nbconvert_exporter": "python",
   "pygments_lexer": "ipython3",
   "version": "3.7.9"
  }
 },
 "nbformat": 4,
 "nbformat_minor": 1
}