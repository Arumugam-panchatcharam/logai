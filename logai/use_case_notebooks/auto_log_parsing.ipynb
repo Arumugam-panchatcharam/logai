{
 "cells": [
  {
   "cell_type": "code",
   "execution_count": 1,
   "metadata": {
    "collapsed": true
   },
   "outputs": [],
   "source": [
    "from logai.preprocess.partition import PartitionerConfig\n",
    "from logai.applications.auto_log_summarization import AutoLogSummarization\n",
    "from logai.algorithms.parsing_algo.drain import DrainParams\n",
    "from logai.information_extraction.log_parser import LogParserConfig\n",
    "from logai.preprocess.preprocess import PreprocessorConfig\n",
    "from logai.dataloader.data_loader import DataLoaderConfig\n",
    "from logai.applications.application_interfaces import WorkFlowConfig\n",
    "\n",
    "\n",
    "TEST_LOG_PATH = \"/Users/qcheng/workspace/gitsoma/logai/tests/logai/test_data/HealthApp_format_2000.csv\"\n",
    "\n",
    "config = WorkFlowConfig(\n",
    "            data_loader_config=DataLoaderConfig(\n",
    "                filepath=TEST_LOG_PATH,\n",
    "                log_type='csv',\n",
    "                dimensions={\n",
    "                    \"attributes\" : [\"Action\", \"ID\"],\n",
    "                    \"body\": [\"Details\"]\n",
    "                },\n",
    "                reader_args={\n",
    "                    \"on_bad_lines\": \"skip\"\n",
    "                }\n",
    "            ),\n",
    "            preprocessor_config=PreprocessorConfig(\n",
    "                custom_delimiters_regex=None\n",
    "            ),\n",
    "            log_parser_config=LogParserConfig(\n",
    "                parsing_algorithm='drain',\n",
    "                parsing_algo_params=DrainParams(\n",
    "                    sim_th=0.4\n",
    "                )\n",
    "            ),\n",
    "        )\n",
    "\n",
    "parsing_app = AutoLogSummarization(config)\n",
    "parsing_app.execute()"
   ]
  },
  {
   "cell_type": "code",
   "execution_count": 2,
   "metadata": {
    "pycharm": {
     "name": "#%%\n"
    }
   },
   "outputs": [
    {
     "data": {
      "text/plain": "                                             logline  \\\n0                            onStandStepChanged 3579   \n1                      onExtend:1514038530000 14 0 4   \n2  onReceive action: android.intent.action.SCREEN_ON   \n3  processHandleBroadcastAction action:android.in...   \n4                                  flush sensor data   \n\n                   parsed_logline                            parameter_list  \\\n0            onStandStepChanged *                                    [3579]   \n1                         * * 0 4              [onExtend:1514038530000, 14]   \n2             onReceive action: *         [android.intent.action.SCREEN_ON]   \n3  processHandleBroadcastAction *  [action:android.intent.action.SCREEN_ON]   \n4               flush sensor data                                        []   \n\n                     Action        ID  \n0                  Step_LSC  30002312  \n1                  Step_LSC  30002312  \n2  Step_StandReportReceiver  30002312  \n3                  Step_LSC  30002312  \n4     Step_StandStepCounter  30002312  ",
      "text/html": "<div>\n<style scoped>\n    .dataframe tbody tr th:only-of-type {\n        vertical-align: middle;\n    }\n\n    .dataframe tbody tr th {\n        vertical-align: top;\n    }\n\n    .dataframe thead th {\n        text-align: right;\n    }\n</style>\n<table border=\"1\" class=\"dataframe\">\n  <thead>\n    <tr style=\"text-align: right;\">\n      <th></th>\n      <th>logline</th>\n      <th>parsed_logline</th>\n      <th>parameter_list</th>\n      <th>Action</th>\n      <th>ID</th>\n    </tr>\n  </thead>\n  <tbody>\n    <tr>\n      <th>0</th>\n      <td>onStandStepChanged 3579</td>\n      <td>onStandStepChanged *</td>\n      <td>[3579]</td>\n      <td>Step_LSC</td>\n      <td>30002312</td>\n    </tr>\n    <tr>\n      <th>1</th>\n      <td>onExtend:1514038530000 14 0 4</td>\n      <td>* * 0 4</td>\n      <td>[onExtend:1514038530000, 14]</td>\n      <td>Step_LSC</td>\n      <td>30002312</td>\n    </tr>\n    <tr>\n      <th>2</th>\n      <td>onReceive action: android.intent.action.SCREEN_ON</td>\n      <td>onReceive action: *</td>\n      <td>[android.intent.action.SCREEN_ON]</td>\n      <td>Step_StandReportReceiver</td>\n      <td>30002312</td>\n    </tr>\n    <tr>\n      <th>3</th>\n      <td>processHandleBroadcastAction action:android.in...</td>\n      <td>processHandleBroadcastAction *</td>\n      <td>[action:android.intent.action.SCREEN_ON]</td>\n      <td>Step_LSC</td>\n      <td>30002312</td>\n    </tr>\n    <tr>\n      <th>4</th>\n      <td>flush sensor data</td>\n      <td>flush sensor data</td>\n      <td>[]</td>\n      <td>Step_StandStepCounter</td>\n      <td>30002312</td>\n    </tr>\n  </tbody>\n</table>\n</div>"
     },
     "execution_count": 2,
     "metadata": {},
     "output_type": "execute_result"
    }
   ],
   "source": [
    "# Check all parsing results\n",
    "parsing_app.parsing_results.head(5)\n"
   ]
  },
  {
   "cell_type": "code",
   "execution_count": 3,
   "metadata": {
    "pycharm": {
     "name": "#%%\n"
    }
   },
   "outputs": [
    {
     "name": "stderr",
     "output_type": "stream",
     "text": [
      "WARNING:root:multiple log pa†terns are found!\n"
     ]
    },
    {
     "name": "stdout",
     "output_type": "stream",
     "text": [
      "Target logline: onStandStepChanged 3579\n",
      "-------------------------------------------\n",
      "Log pattern is: onStandStepChanged *\n",
      "-------------------------------------------\n",
      "Dynamic parameters\n",
      "     position  value_counts                                             values\n",
      "0  POSITION_0           260  [3579, 3579, 3579, 3580, 3581, 3583, 3584, 358...\n"
     ]
    }
   ],
   "source": [
    "# Check log pattern for a given logline\n",
    "logline = parsing_app.parsing_results['logline'].tolist()[0]\n",
    "print(\"Target logline: \" + logline)\n",
    "\n",
    "log_pattern, dynamic_parameters = parsing_app.find_log_pattern(logline)\n",
    "\n",
    "print(\"-------------------------------------------\")\n",
    "print(\"Log pattern is: \" + log_pattern)\n",
    "print(\"-------------------------------------------\")\n",
    "print(\"Dynamic parameters\")\n",
    "\n",
    "print(dynamic_parameters)"
   ]
  },
  {
   "cell_type": "code",
   "execution_count": 4,
   "metadata": {
    "pycharm": {
     "name": "#%%\n"
    }
   },
   "outputs": [],
   "source": [
    "# Select target attributes, here us action and id as example.\n",
    "action = \"Step_LSC\"\n",
    "id = 30002312\n",
    "\n",
    "res = parsing_app.parsing_results\n",
    "\n",
    "patterns = res.loc[(res['Action'] == action) & (res[\"ID\"] == id)]['parsed_logline']\n",
    "\n",
    "for p in patterns:\n",
    "    dynamic_parameters = parsing_app.get_parameter_list(p)\n",
    "\n",
    "    print(\"-------------------------------------------\")\n",
    "    print(\"Log pattern is: \" + p)\n",
    "    print(\"-------------------------------------------\")\n",
    "    print(\"Dynamic parameters\")\n",
    "    print(dynamic_parameters)\n"
   ]
  }
 ],
 "metadata": {
  "kernelspec": {
   "display_name": "Python 3 (ipykernel)",
   "language": "python",
   "name": "python3"
  },
  "language_info": {
   "codemirror_mode": {
    "name": "ipython",
    "version": 3
   },
   "file_extension": ".py",
   "mimetype": "text/x-python",
   "name": "python",
   "nbconvert_exporter": "python",
   "pygments_lexer": "ipython3",
   "version": "3.9.12"
  }
 },
 "nbformat": 4,
 "nbformat_minor": 1
}