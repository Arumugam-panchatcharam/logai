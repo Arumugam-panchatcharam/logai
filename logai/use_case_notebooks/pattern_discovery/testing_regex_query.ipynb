{
 "cells": [
  {
   "cell_type": "code",
   "execution_count": 1,
   "metadata": {
    "collapsed": true
   },
   "outputs": [],
   "source": [
    "import pandas as pd\n",
    "import zipfile\n",
    "\n",
    "path = \"/Users/qcheng/workspace/gitsoma/logai/logai/results/pattern_discovery/cluster_patterns_new.json\"\n",
    "\n",
    "out_path = \"/Users/qcheng/workspace/gitsoma/logai/logai/results/pattern_discovery\"\n",
    "\n",
    "log_pattern_df = pd.read_json(path, orient=\"columns\")"
   ]
  },
  {
   "cell_type": "code",
   "execution_count": 2,
   "outputs": [
    {
     "data": {
      "text/plain": "     lrt  cluster_label                                       base_pattern  \\\n0  augen              0  augen * * * 0 0 * * * * 238.10.5 * * * * * /au...   \n1  augen              1  augen * * * 0 0 * * * * 238.10.5 * * * * * * *...   \n2  augen              2  augen * * * 0 0 0 * * * 238.10.5 00D6A00000026...   \n3  augen              3  augen * * * 0 0 * * * * 238.10.5 * * * * * /au...   \n4  augen              4  augen * * * 0 0 0 * * * 238.10.5 * * * * * /au...   \n\n                                      parameter_list  \n0  [[20220629201459.827, 20220629201454.508, 2022...  \n1  [[20220629201455.702, 20220629201457.820, 2022...  \n2  [[20220629201458.475, 20220629201456.787, 2022...  \n3  [[20220629201457.222, 20220629201459.306, 2022...  \n4  [[20220629201456.892, 20220629201455.704, 2022...  ",
      "text/html": "<div>\n<style scoped>\n    .dataframe tbody tr th:only-of-type {\n        vertical-align: middle;\n    }\n\n    .dataframe tbody tr th {\n        vertical-align: top;\n    }\n\n    .dataframe thead th {\n        text-align: right;\n    }\n</style>\n<table border=\"1\" class=\"dataframe\">\n  <thead>\n    <tr style=\"text-align: right;\">\n      <th></th>\n      <th>lrt</th>\n      <th>cluster_label</th>\n      <th>base_pattern</th>\n      <th>parameter_list</th>\n    </tr>\n  </thead>\n  <tbody>\n    <tr>\n      <th>0</th>\n      <td>augen</td>\n      <td>0</td>\n      <td>augen * * * 0 0 * * * * 238.10.5 * * * * * /au...</td>\n      <td>[[20220629201459.827, 20220629201454.508, 2022...</td>\n    </tr>\n    <tr>\n      <th>1</th>\n      <td>augen</td>\n      <td>1</td>\n      <td>augen * * * 0 0 * * * * 238.10.5 * * * * * * *...</td>\n      <td>[[20220629201455.702, 20220629201457.820, 2022...</td>\n    </tr>\n    <tr>\n      <th>2</th>\n      <td>augen</td>\n      <td>2</td>\n      <td>augen * * * 0 0 0 * * * 238.10.5 00D6A00000026...</td>\n      <td>[[20220629201458.475, 20220629201456.787, 2022...</td>\n    </tr>\n    <tr>\n      <th>3</th>\n      <td>augen</td>\n      <td>3</td>\n      <td>augen * * * 0 0 * * * * 238.10.5 * * * * * /au...</td>\n      <td>[[20220629201457.222, 20220629201459.306, 2022...</td>\n    </tr>\n    <tr>\n      <th>4</th>\n      <td>augen</td>\n      <td>4</td>\n      <td>augen * * * 0 0 0 * * * 238.10.5 * * * * * /au...</td>\n      <td>[[20220629201456.892, 20220629201455.704, 2022...</td>\n    </tr>\n  </tbody>\n</table>\n</div>"
     },
     "execution_count": 2,
     "metadata": {},
     "output_type": "execute_result"
    }
   ],
   "source": [
    "log_pattern_df.head(5)"
   ],
   "metadata": {
    "collapsed": false,
    "pycharm": {
     "name": "#%%\n"
    }
   }
  },
  {
   "cell_type": "code",
   "execution_count": 3,
   "outputs": [],
   "source": [
    "patterns = log_pattern_df[['base_pattern', 'lrt', 'cluster_label']].drop_duplicates()\n",
    "\n",
    "count_table = patterns[['base_pattern', 'lrt']].value_counts().to_frame().reset_index()\n",
    "\n",
    "count_table.columns = ['base_pattern', 'lrt', 'counts']\n",
    "# count_table\n",
    "\n",
    "count_table.to_csv(out_path+\"/pattern_count_table_new.csv\")"
   ],
   "metadata": {
    "collapsed": false,
    "pycharm": {
     "name": "#%%\n"
    }
   }
  },
  {
   "cell_type": "code",
   "execution_count": 4,
   "outputs": [
    {
     "data": {
      "text/plain": "0.10832072617246596"
     },
     "execution_count": 4,
     "metadata": {},
     "output_type": "execute_result"
    }
   ],
   "source": [
    "# overall non-satisfied rate\n",
    "us_rate = (count_table[count_table['counts'] > 1].shape[0] / count_table.shape[0])\n",
    "\n",
    "us_rate"
   ],
   "metadata": {
    "collapsed": false,
    "pycharm": {
     "name": "#%%\n"
    }
   }
  },
  {
   "cell_type": "code",
   "execution_count": 5,
   "outputs": [],
   "source": [
    "# unsatisfied rate per LRT\n",
    "\n",
    "lrts = count_table['lrt'].unique()\n",
    "\n",
    "res = []\n",
    "# print(lrts)\n",
    "for lrt in lrts:\n",
    "    t = count_table[count_table['lrt'] == lrt]\n",
    "    r = (t[t['counts'] > 1].shape[0] / t.shape[0])\n",
    "    # print(lrt, r)\n",
    "    res.append([lrt,r])\n",
    "\n",
    "pd.DataFrame(res).to_csv(out_path+'/pattern_overlap_new.csv', header=False)\n",
    "\n",
    "\n",
    "#"
   ],
   "metadata": {
    "collapsed": false,
    "pycharm": {
     "name": "#%%\n"
    }
   }
  }
 ],
 "metadata": {
  "kernelspec": {
   "display_name": "Python 3",
   "language": "python",
   "name": "python3"
  },
  "language_info": {
   "codemirror_mode": {
    "name": "ipython",
    "version": 2
   },
   "file_extension": ".py",
   "mimetype": "text/x-python",
   "name": "python",
   "nbconvert_exporter": "python",
   "pygments_lexer": "ipython2",
   "version": "2.7.6"
  }
 },
 "nbformat": 4,
 "nbformat_minor": 0
}