{
 "cells": [
  {
   "cell_type": "code",
   "execution_count": 7,
   "metadata": {
    "collapsed": true
   },
   "outputs": [],
   "source": []
  },
  {
   "cell_type": "code",
   "execution_count": 8,
   "metadata": {
    "pycharm": {
     "name": "#%%\n"
    }
   },
   "outputs": [],
   "source": [
    "from os import listdir\n",
    "from os.path import isfile, join, exists, dirname\n",
    "import sys\n",
    "import os\n",
    "\n",
    "import pandas as pd\n",
    "\n",
    "from logai.dataloader.data_loader import FileDataLoader\n",
    "from logai.dataloader.data_loader import FileConfig\n",
    "from logai.information_extraction.log_parser import LogParser, LogParserConfig\n",
    "from logai.algorithms.parsing_algo.drain import DrainParams\n",
    "from logai.preprocess.preprocess import Preprocessor, PreprocessorConfig\n",
    "from logai.dataloader.data_model import LogRecordObject"
   ]
  },
  {
   "cell_type": "code",
   "execution_count": 9,
   "metadata": {
    "pycharm": {
     "name": "#%%\n"
    }
   },
   "outputs": [],
   "source": [
    "# functions\n",
    "\n",
    "def read_log(name):\n",
    "    filepath = os.path.join(DIR, \"{}.csv\".format(name))\n",
    "\n",
    "    with open(filepath, \"r\") as f:\n",
    "        loglines = []\n",
    "        cluster_labels = []\n",
    "        pattern = \",{}`\".format(name)\n",
    "        for l in f.readlines():\n",
    "            start_index = l.find(\",{}`\".format(name))\n",
    "            if start_index != -1:\n",
    "                logline = l[start_index:-1].replace(pattern, \"\")\n",
    "                if logline:\n",
    "                    loglines.append(logline.strip())\n",
    "                    cluster_labels.append(l.split(\",\")[0])\n",
    "    f.close()\n",
    "    return loglines, cluster_labels\n",
    "\n",
    "# read new ailtn\n",
    "def read_new_ailtn():\n",
    "    path = '/Users/qcheng/workspace/gitsoma/logai/logai/data/sf_datasets_new_labels/ailtn_with_label.csv'\n",
    "    df = pd.read_csv(path, header=0)\n",
    "    return df['_raw'], df['cluster_label']\n",
    "\n",
    "# Levenshtein distance\n",
    "import numpy as np\n",
    "def levenshteinDistanceDP(token1, token2):\n",
    "    distances = np.zeros((len(token1) + 1, len(token2) + 1))\n",
    "\n",
    "    for t1 in range(len(token1) + 1):\n",
    "        distances[t1][0] = t1\n",
    "\n",
    "    for t2 in range(len(token2) + 1):\n",
    "        distances[0][t2] = t2\n",
    "\n",
    "    a = 0\n",
    "    b = 0\n",
    "    c = 0\n",
    "\n",
    "    for t1 in range(1, len(token1) + 1):\n",
    "        for t2 in range(1, len(token2) + 1):\n",
    "            if token1[t1-1] == token2[t2-1] \\\n",
    "                    or token1[t1-1] == \"*\" or token2[t2-1] == \"*\":\n",
    "                distances[t1][t2] = distances[t1 - 1][t2 - 1]\n",
    "            else:\n",
    "                a = distances[t1][t2 - 1]\n",
    "                b = distances[t1 - 1][t2]\n",
    "                c = distances[t1 - 1][t2 - 1]\n",
    "\n",
    "                if a <= b and a <= c:\n",
    "                    distances[t1][t2] = a + 1\n",
    "                elif b <= a and b <= c:\n",
    "                    distances[t1][t2] = b + 1\n",
    "                else:\n",
    "                    distances[t1][t2] = c + 1\n",
    "\n",
    "    return distances[len(token1)][len(token2)]\n",
    "\n",
    "def calc_distance(base, p):\n",
    "    b_token = base.split(\" \")\n",
    "    p_token = p.split(\" \")\n",
    "\n",
    "    l = max(len(b_token), len(p_token))\n",
    "    dis = levenshteinDistanceDP(b_token, p_token)\n",
    "    sim = (l - dis) * 1.0 / l\n",
    "    return dis, sim\n",
    "\n",
    "def get_sim_table(parsed_loglines: pd.Series, lrt, cluster):\n",
    "    pattern_counts = parsed_loglines.value_counts(normalize=True, sort=True, ascending=False).reset_index()\n",
    "    pattern_counts.columns = [\"pattern\", \"portion\"]\n",
    "    pattern_counts.sort_values(by=\"portion\", ascending=False, inplace=True)\n",
    "    base_pattern = pattern_counts[\"pattern\"][0]\n",
    "\n",
    "    similarity_table = []\n",
    "    for index, row in pattern_counts.iterrows():\n",
    "        pattern = row[\"pattern\"]\n",
    "        portion = row[\"portion\"]\n",
    "        dis, sim = calc_distance(base_pattern, pattern)\n",
    "        similarity_table.append([lrt, cluster, portion, dis, sim, pattern, base_pattern])\n",
    "    res = pd.DataFrame.from_dict(similarity_table)\n",
    "    res.columns=[\"lrt\", \"cluster\", \"portion\", \"distance\", \"similarity\", \"pattern\", \"base_pattern\"]\n",
    "    return res, base_pattern\n",
    "\n",
    "from logai.utils.functions import get_parameter_list\n",
    "\n",
    "\n",
    "# read new ailtn\n",
    "def read_new_logs(path):\n",
    "    df = pd.read_csv(path, header=0, low_memory=False)\n",
    "    res = df[['_raw', 'cluster_label']]\n",
    "    res.columns = ['logline', 'cluster_label']\n",
    "    return res\n",
    "\n",
    "def parse_logs(loglines, cluster_label, lrt):\n",
    "    drain_config = DrainParams(sim_th=0.1,                       extra_delimiters=[])\n",
    "    log_parser_config = LogParserConfig(parsing_algorithm='drain',                              parsing_algo_params=drain_config)\n",
    "    parser = LogParser(log_parser_config)\n",
    "    parsed_result = parser.parse(loglines.dropna())\n",
    "    parsed_result['cluster_label'] = cluster_label\n",
    "    parsed_result['lrt'] = lrt\n",
    "    return parsed_result\n",
    "\n",
    "\n",
    "def cal_similarity_for_lrt(logs:pd.DataFrame, lrt):\n",
    "\n",
    "    logrecord = LogRecordObject(body=logs['logline'], attributes=logs[['cluster_label']])\n",
    "    similarity = pd.DataFrame()\n",
    "    custom_delimeter_regex = [r\"`+|\\s+\"]\n",
    "    preprocessor = Preprocessor(PreprocessorConfig(custom_delimiters_regex=custom_delimeter_regex))\n",
    "    preprocessed_loglines = preprocessor.clean_log(logrecord.body)\n",
    "    index_groups = preprocessor.group_log_index(logrecord.attributes, by=['cluster_label'])\n",
    "\n",
    "\n",
    "    for i in index_groups.index:\n",
    "        cluster_label = index_groups['cluster_label'].iloc[i]\n",
    "        indices = index_groups['group_index'][i]\n",
    "        if index_groups['cluster_label'].iloc[i] == -1:\n",
    "            continue\n",
    "        if len(indices) == 1:\n",
    "            continue\n",
    "        loglines_in_group = preprocessed_loglines.iloc[indices]\n",
    "        parsed_result = parse_logs(loglines_in_group, cluster_label, lrt)\n",
    "\n",
    "        uniq_patterns = parsed_result['parsed_logline'].unique()\n",
    "        num_p = len(uniq_patterns)\n",
    "\n",
    "        if num_p > 1:\n",
    "            similarity_table, base_pattern = get_sim_table(parsed_result[\"parsed_logline\"], lrt, cluster_label)\n",
    "            similarity = similarity.append(similarity_table)\n",
    "\n",
    "    return similarity\n",
    "\n"
   ]
  },
  {
   "cell_type": "code",
   "execution_count": 10,
   "metadata": {
    "pycharm": {
     "name": "#%%\n"
    }
   },
   "outputs": [
    {
     "name": "stderr",
     "output_type": "stream",
     "text": [
      "/Users/qcheng/workspace/gitsoma/logai/venv/lib/python3.7/site-packages/ipykernel_launcher.py:8: DeprecationWarning: The default dtype for empty Series will be 'object' instead of 'float64' in a future version. Specify a dtype explicitly to silence this warning.\n",
      "  \n",
      "/Users/qcheng/workspace/gitsoma/logai/venv/lib/python3.7/site-packages/ipykernel_launcher.py:9: DeprecationWarning: The default dtype for empty Series will be 'object' instead of 'float64' in a future version. Specify a dtype explicitly to silence this warning.\n",
      "  if __name__ == '__main__':\n"
     ]
    },
    {
     "name": "stdout",
     "output_type": "stream",
     "text": [
      "ailtn\n",
      "/Users/qcheng/workspace/gitsoma/logai/logai/data/sf_datasets_new_labels/ailtn_with_label.csv\n",
      "A\n",
      "/Users/qcheng/workspace/gitsoma/logai/logai/data/sf_datasets_new_labels/A_with_label.csv\n",
      "U\n",
      "/Users/qcheng/workspace/gitsoma/logai/logai/data/sf_datasets_new_labels/U_with_label.csv\n",
      "mqfrm\n",
      "/Users/qcheng/workspace/gitsoma/logai/logai/data/sf_datasets_new_labels/mqfrm_with_label.csv\n",
      "mqdbg\n",
      "/Users/qcheng/workspace/gitsoma/logai/logai/data/sf_datasets_new_labels/mqdbg_with_label.csv\n"
     ]
    }
   ],
   "source": [
    "DIR = \"/Users/qcheng/workspace/gitsoma/logai/logai/data/sf_datasets_new_labels/\"\n",
    "\n",
    "file_list = os.listdir(DIR)\n",
    "\n",
    "similarity = pd.DataFrame()\n",
    "parsing_res = pd.DataFrame()\n",
    "\n",
    "base_patterns = pd.Series()\n",
    "parameter_lists = pd.Series()\n",
    "\n",
    "for file in file_list:\n",
    "    path = os.path.join(DIR, file)\n",
    "    name = file.split('_')[0]\n",
    "    print(name)\n",
    "    print(path)\n",
    "    logs = read_new_logs(path)\n",
    "    sim= cal_similarity_for_lrt(logs, name)\n",
    "    similarity = similarity.append(sim)"
   ]
  },
  {
   "cell_type": "code",
   "execution_count": 11,
   "metadata": {
    "pycharm": {
     "name": "#%%\n"
    }
   },
   "outputs": [
    {
     "data": {
      "text/html": [
       "<div>\n",
       "<style scoped>\n",
       "    .dataframe tbody tr th:only-of-type {\n",
       "        vertical-align: middle;\n",
       "    }\n",
       "\n",
       "    .dataframe tbody tr th {\n",
       "        vertical-align: top;\n",
       "    }\n",
       "\n",
       "    .dataframe thead th {\n",
       "        text-align: right;\n",
       "    }\n",
       "</style>\n",
       "<table border=\"1\" class=\"dataframe\">\n",
       "  <thead>\n",
       "    <tr style=\"text-align: right;\">\n",
       "      <th></th>\n",
       "      <th>lrt</th>\n",
       "      <th>cluster</th>\n",
       "      <th>portion</th>\n",
       "      <th>distance</th>\n",
       "      <th>similarity</th>\n",
       "      <th>pattern</th>\n",
       "      <th>base_pattern</th>\n",
       "    </tr>\n",
       "  </thead>\n",
       "  <tbody>\n",
       "    <tr>\n",
       "      <th>0</th>\n",
       "      <td>ailtn</td>\n",
       "      <td>233</td>\n",
       "      <td>0.500</td>\n",
       "      <td>0.0</td>\n",
       "      <td>1.000000</td>\n",
       "      <td>ailtn * * * 0 0 0 * * * 232.3.3 00DB000000060f...</td>\n",
       "      <td>ailtn * * * 0 0 0 * * * 232.3.3 00DB000000060f...</td>\n",
       "    </tr>\n",
       "    <tr>\n",
       "      <th>1</th>\n",
       "      <td>ailtn</td>\n",
       "      <td>233</td>\n",
       "      <td>0.375</td>\n",
       "      <td>2.0</td>\n",
       "      <td>0.955556</td>\n",
       "      <td>ailtn * * * 0 0 0 * * * 232.3.3 00DB000000060f...</td>\n",
       "      <td>ailtn * * * 0 0 0 * * * 232.3.3 00DB000000060f...</td>\n",
       "    </tr>\n",
       "    <tr>\n",
       "      <th>2</th>\n",
       "      <td>ailtn</td>\n",
       "      <td>233</td>\n",
       "      <td>0.125</td>\n",
       "      <td>22.0</td>\n",
       "      <td>0.500000</td>\n",
       "      <td>ailtn 20210501001416.382 TID:141005470000f0d63...</td>\n",
       "      <td>ailtn * * * 0 0 0 * * * 232.3.3 00DB000000060f...</td>\n",
       "    </tr>\n",
       "  </tbody>\n",
       "</table>\n",
       "</div>"
      ],
      "text/plain": [
       "     lrt  cluster  portion  distance  similarity  \\\n",
       "0  ailtn      233    0.500       0.0    1.000000   \n",
       "1  ailtn      233    0.375       2.0    0.955556   \n",
       "2  ailtn      233    0.125      22.0    0.500000   \n",
       "\n",
       "                                             pattern  \\\n",
       "0  ailtn * * * 0 0 0 * * * 232.3.3 00DB000000060f...   \n",
       "1  ailtn * * * 0 0 0 * * * 232.3.3 00DB000000060f...   \n",
       "2  ailtn 20210501001416.382 TID:141005470000f0d63...   \n",
       "\n",
       "                                        base_pattern  \n",
       "0  ailtn * * * 0 0 0 * * * 232.3.3 00DB000000060f...  \n",
       "1  ailtn * * * 0 0 0 * * * 232.3.3 00DB000000060f...  \n",
       "2  ailtn * * * 0 0 0 * * * 232.3.3 00DB000000060f...  "
      ]
     },
     "execution_count": 11,
     "metadata": {},
     "output_type": "execute_result"
    }
   ],
   "source": [
    "similarity.loc[(similarity[\"lrt\"]== \"ailtn\") & (similarity[\"cluster\"] == 233)]"
   ]
  },
  {
   "cell_type": "code",
   "execution_count": 18,
   "metadata": {
    "pycharm": {
     "name": "#%%\n"
    }
   },
   "outputs": [],
   "source": [
    "RES_DIR = \"/Users/qcheng/workspace/gitsoma/logai/logai/results/pattern_discovery/\"\n",
    "\n",
    "similarity.groupby(\"lrt\").mean()[[\"distance\", \"similarity\"]].to_csv(os.path.join(RES_DIR, \"new_label_similarity.csv\"))"
   ]
  },
  {
   "cell_type": "code",
   "execution_count": 23,
   "metadata": {
    "pycharm": {
     "name": "#%%\n"
    }
   },
   "outputs": [
    {
     "data": {
      "text/plain": [
       "<AxesSubplot:ylabel='Frequency'>"
      ]
     },
     "execution_count": 23,
     "metadata": {},
     "output_type": "execute_result"
    },
    {
     "data": {
      "image/png": "[encoded data removed]",
      "text/plain": [
       "<Figure size 432x288 with 1 Axes>"
      ]
     },
     "metadata": {
      "needs_background": "light"
     },
     "output_type": "display_data"
    }
   ],
   "source": [
    "similarity[similarity['lrt'] == 'A'][['similarity']].plot.hist(bins=20, range=[0,1])"
   ]
  },
  {
   "cell_type": "code",
   "execution_count": null,
   "metadata": {},
   "outputs": [],
   "source": []
  }
 ],
 "metadata": {
  "kernelspec": {
   "display_name": "Python 3 (ipykernel)",
   "language": "python",
   "name": "python3"
  },
  "language_info": {
   "codemirror_mode": {
    "name": "ipython",
    "version": 3
   },
   "file_extension": ".py",
   "mimetype": "text/x-python",
   "name": "python",
   "nbconvert_exporter": "python",
   "pygments_lexer": "ipython3",
   "version": "3.7.9"
  }
 },
 "nbformat": 4,
 "nbformat_minor": 1
}
